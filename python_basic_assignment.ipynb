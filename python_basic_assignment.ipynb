{
  "nbformat": 4,
  "nbformat_minor": 0,
  "metadata": {
    "colab": {
      "provenance": []
    },
    "kernelspec": {
      "name": "python3",
      "display_name": "Python 3"
    },
    "language_info": {
      "name": "python"
    }
  },
  "cells": [
    {
      "cell_type": "markdown",
      "source": [
        "Q.1.\n",
        "Ans :\n",
        "1. Easy to ue than other languages\n",
        "2. It has various libraries which makes work easy on that platform\n",
        "3. It has rich ecosystem\n",
        "4. Open sorce\n",
        "5. Integration\n",
        "6. Supports machine Learning\n",
        "7. Scalability\n",
        "8. Automation\n",
        "9. Cross platforms\n"
      ],
      "metadata": {
        "id": "kdOE1DrB8fMm"
      }
    },
    {
      "cell_type": "code",
      "source": [],
      "metadata": {
        "id": "AvavaBao9pB_"
      },
      "execution_count": null,
      "outputs": []
    },
    {
      "cell_type": "markdown",
      "source": [
        "Q.2.\n",
        "Ans:\n"
      ],
      "metadata": {
        "id": "JB8HZA2R8ekN"
      }
    },
    {
      "cell_type": "code",
      "source": [
        "#keywords are predefined commands for user which can easily execute in python & they are use for giving commands.\n",
        "\n",
        "print(\"Hello PWSKILLS\")"
      ],
      "metadata": {
        "colab": {
          "base_uri": "https://localhost:8080/"
        },
        "id": "wIUNPwr29sZO",
        "outputId": "68a2feff-7591-4ddd-9c7d-1e7ca4d4d5b8"
      },
      "execution_count": null,
      "outputs": [
        {
          "output_type": "stream",
          "name": "stdout",
          "text": [
            "Hello PWSKILLS\n"
          ]
        }
      ]
    },
    {
      "cell_type": "markdown",
      "source": [
        "Q.3\n",
        "Ans:\n",
        "Mutable objects are those , which can be changed by and immutable are those which can't be changed  "
      ],
      "metadata": {
        "id": "wi8oMUaz-niM"
      }
    },
    {
      "cell_type": "code",
      "source": [
        "a=[1,2,3,4,5]\n",
        "a"
      ],
      "metadata": {
        "colab": {
          "base_uri": "https://localhost:8080/"
        },
        "id": "HkTYHvN4-gvq",
        "outputId": "091c7732-cb6b-4f63-e39e-46bc647b85cc"
      },
      "execution_count": null,
      "outputs": [
        {
          "output_type": "execute_result",
          "data": {
            "text/plain": [
              "[1, 2, 3, 4, 5]"
            ]
          },
          "metadata": {},
          "execution_count": 2
        }
      ]
    },
    {
      "cell_type": "code",
      "source": [
        "a[2]=9\n",
        "a             #3 is replaced by 9"
      ],
      "metadata": {
        "colab": {
          "base_uri": "https://localhost:8080/"
        },
        "id": "gKUkdLPL_HuE",
        "outputId": "7fc8cc0c-680b-4fc2-93de-e64f8c092b04"
      },
      "execution_count": null,
      "outputs": [
        {
          "output_type": "execute_result",
          "data": {
            "text/plain": [
              "[1, 2, 9, 4, 5]"
            ]
          },
          "metadata": {},
          "execution_count": 3
        }
      ]
    },
    {
      "cell_type": "code",
      "source": [
        "b=(1,2,3,4,5)\n",
        "b"
      ],
      "metadata": {
        "colab": {
          "base_uri": "https://localhost:8080/"
        },
        "id": "V3zBhvQD_MKs",
        "outputId": "261674a6-ecfa-4196-fdb5-66c84a54f3c9"
      },
      "execution_count": null,
      "outputs": [
        {
          "output_type": "execute_result",
          "data": {
            "text/plain": [
              "(1, 2, 3, 4, 5)"
            ]
          },
          "metadata": {},
          "execution_count": 4
        }
      ]
    },
    {
      "cell_type": "code",
      "source": [
        "b[2]=9\n",
        "b     #any component of b which is a tuple cant be changed since tuple is immutable in nature"
      ],
      "metadata": {
        "colab": {
          "base_uri": "https://localhost:8080/",
          "height": 158
        },
        "id": "euEaGVhY_ZZU",
        "outputId": "ad99437b-cd49-473e-e592-3aeac752580b"
      },
      "execution_count": null,
      "outputs": [
        {
          "output_type": "error",
          "ename": "TypeError",
          "evalue": "'tuple' object does not support item assignment",
          "traceback": [
            "\u001b[0;31m---------------------------------------------------------------------------\u001b[0m",
            "\u001b[0;31mTypeError\u001b[0m                                 Traceback (most recent call last)",
            "\u001b[0;32m<ipython-input-5-3a13a1bf8a03>\u001b[0m in \u001b[0;36m<cell line: 1>\u001b[0;34m()\u001b[0m\n\u001b[0;32m----> 1\u001b[0;31m \u001b[0mb\u001b[0m\u001b[0;34m[\u001b[0m\u001b[0;36m2\u001b[0m\u001b[0;34m]\u001b[0m\u001b[0;34m=\u001b[0m\u001b[0;36m9\u001b[0m\u001b[0;34m\u001b[0m\u001b[0;34m\u001b[0m\u001b[0m\n\u001b[0m\u001b[1;32m      2\u001b[0m \u001b[0mb\u001b[0m\u001b[0;34m\u001b[0m\u001b[0;34m\u001b[0m\u001b[0m\n",
            "\u001b[0;31mTypeError\u001b[0m: 'tuple' object does not support item assignment"
          ]
        }
      ]
    },
    {
      "cell_type": "markdown",
      "source": [
        "Q.4.\n",
        "Ans:\n",
        "There are va types of operators in Python and are as follows:\n",
        "1. Arithmatic\n",
        "2. logical\n",
        "3. Relationship\n",
        "4. Bitwise\n",
        "5. Assignment\n",
        "6. Membership\n",
        "7. Identity"
      ],
      "metadata": {
        "id": "goyZ0DZ4_w2F"
      }
    },
    {
      "cell_type": "code",
      "source": [
        "#Arithmatic operator:\n",
        "a=2\n",
        "b=3\n",
        "a+b"
      ],
      "metadata": {
        "colab": {
          "base_uri": "https://localhost:8080/"
        },
        "id": "bUxiVToi_dYc",
        "outputId": "a8c2f6ab-a73b-420c-a486-65cb8a6e8f18"
      },
      "execution_count": null,
      "outputs": [
        {
          "output_type": "execute_result",
          "data": {
            "text/plain": [
              "5"
            ]
          },
          "metadata": {},
          "execution_count": 6
        }
      ]
    },
    {
      "cell_type": "code",
      "source": [
        "a-b"
      ],
      "metadata": {
        "colab": {
          "base_uri": "https://localhost:8080/"
        },
        "id": "CLhQxOZWBPSQ",
        "outputId": "99da27ce-c2a4-4d54-884f-20fe1d2cce65"
      },
      "execution_count": null,
      "outputs": [
        {
          "output_type": "execute_result",
          "data": {
            "text/plain": [
              "-1"
            ]
          },
          "metadata": {},
          "execution_count": 7
        }
      ]
    },
    {
      "cell_type": "code",
      "source": [
        "#Logical oerator:\n",
        "True and False"
      ],
      "metadata": {
        "colab": {
          "base_uri": "https://localhost:8080/"
        },
        "id": "re_yg7XQBQej",
        "outputId": "5b216247-9263-4c40-f7c2-0879f1ffc6dc"
      },
      "execution_count": null,
      "outputs": [
        {
          "output_type": "execute_result",
          "data": {
            "text/plain": [
              "False"
            ]
          },
          "metadata": {},
          "execution_count": 8
        }
      ]
    },
    {
      "cell_type": "code",
      "source": [
        "True and True"
      ],
      "metadata": {
        "colab": {
          "base_uri": "https://localhost:8080/"
        },
        "id": "I7Qw7Ff-BgWS",
        "outputId": "781835c2-8e7c-41fe-bb16-87488466f383"
      },
      "execution_count": null,
      "outputs": [
        {
          "output_type": "execute_result",
          "data": {
            "text/plain": [
              "True"
            ]
          },
          "metadata": {},
          "execution_count": 9
        }
      ]
    },
    {
      "cell_type": "markdown",
      "source": [
        "Q.5.\n",
        "Ans:\n",
        "Casting is changing the data type of value of variable.\n",
        "integers and float can be converted to string but string which is letter or word can't be converted to integer or float.\n",
        "Two types of casting:\n",
        "1. implicit\n",
        "2. explicit"
      ],
      "metadata": {
        "id": "Am36DcJjBqgd"
      }
    },
    {
      "cell_type": "code",
      "source": [
        "a=5\n",
        "type(a)"
      ],
      "metadata": {
        "colab": {
          "base_uri": "https://localhost:8080/"
        },
        "id": "lGRak-h3BjZw",
        "outputId": "f6b37ecd-ef1a-4f1a-aff3-168f88b34ff6"
      },
      "execution_count": null,
      "outputs": [
        {
          "output_type": "execute_result",
          "data": {
            "text/plain": [
              "int"
            ]
          },
          "metadata": {},
          "execution_count": 10
        }
      ]
    },
    {
      "cell_type": "code",
      "source": [
        "str(a)"
      ],
      "metadata": {
        "colab": {
          "base_uri": "https://localhost:8080/",
          "height": 36
        },
        "id": "sxfusHSkB5EB",
        "outputId": "c1bd583d-9fbd-4dfb-91c5-425bec174b7f"
      },
      "execution_count": null,
      "outputs": [
        {
          "output_type": "execute_result",
          "data": {
            "text/plain": [
              "'5'"
            ],
            "application/vnd.google.colaboratory.intrinsic+json": {
              "type": "string"
            }
          },
          "metadata": {},
          "execution_count": 11
        }
      ]
    },
    {
      "cell_type": "code",
      "source": [
        "type(a)"
      ],
      "metadata": {
        "colab": {
          "base_uri": "https://localhost:8080/"
        },
        "id": "iIVI3WneB7ZC",
        "outputId": "fe57904e-6792-4cb4-da89-b2de48d1ec4b"
      },
      "execution_count": null,
      "outputs": [
        {
          "output_type": "execute_result",
          "data": {
            "text/plain": [
              "int"
            ]
          },
          "metadata": {},
          "execution_count": 12
        }
      ]
    },
    {
      "cell_type": "code",
      "source": [
        "# Q.6.\n",
        "#Ans:\n",
        "\n",
        "a=100\n",
        "if a > 50 :\n",
        "  print(\"number is right\")"
      ],
      "metadata": {
        "colab": {
          "base_uri": "https://localhost:8080/"
        },
        "id": "EOC5VLigB-Js",
        "outputId": "4729769c-3bcf-4ba6-ef64-6b921cc95a25"
      },
      "execution_count": null,
      "outputs": [
        {
          "output_type": "stream",
          "name": "stdout",
          "text": [
            "number is right\n"
          ]
        }
      ]
    },
    {
      "cell_type": "markdown",
      "source": [
        "Q.7.\n",
        "Ans:\n",
        "Different types of loops in Python:\n",
        "1. or : iterate over sequence of element\n",
        "2. while : repeatedly executed untill condition is met"
      ],
      "metadata": {
        "id": "PTJWD4m3DtUP"
      }
    },
    {
      "cell_type": "code",
      "source": [
        "n = 7\n",
        "i = -3\n",
        "while i<n:\n",
        "  print(i)\n",
        "  i=i+1"
      ],
      "metadata": {
        "colab": {
          "base_uri": "https://localhost:8080/"
        },
        "id": "S1v4u7fvDs0j",
        "outputId": "0d8eccf1-b709-4ece-ab80-ca627cd69e6a"
      },
      "execution_count": null,
      "outputs": [
        {
          "output_type": "stream",
          "name": "stdout",
          "text": [
            "-3\n",
            "-2\n",
            "-1\n",
            "0\n",
            "1\n",
            "2\n",
            "3\n",
            "4\n",
            "5\n",
            "6\n"
          ]
        }
      ]
    },
    {
      "cell_type": "code",
      "source": [
        "a=[1,2,3,4,5]\n",
        "for i in a:\n",
        "  print(i)"
      ],
      "metadata": {
        "colab": {
          "base_uri": "https://localhost:8080/"
        },
        "id": "RzUV9T3UDirA",
        "outputId": "73f1c2a9-b6ed-4141-bee7-8cfd717d4096"
      },
      "execution_count": null,
      "outputs": [
        {
          "output_type": "stream",
          "name": "stdout",
          "text": [
            "1\n",
            "2\n",
            "3\n",
            "4\n",
            "5\n"
          ]
        }
      ]
    },
    {
      "cell_type": "code",
      "source": [],
      "metadata": {
        "id": "5h_ADwYuFmFV"
      },
      "execution_count": null,
      "outputs": []
    }
  ]
}